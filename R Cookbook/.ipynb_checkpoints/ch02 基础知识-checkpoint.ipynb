{
 "cells": [
  {
   "cell_type": "markdown",
   "metadata": {},
   "source": [
    "#   基础知识"
   ]
  },
  {
   "cell_type": "markdown",
   "metadata": {},
   "source": [
    "##  在屏幕上显示内容"
   ]
  },
  {
   "cell_type": "markdown",
   "metadata": {},
   "source": [
    "### 问题\n",
    "通过R软件显示某一变量或表达式的值"
   ]
  },
  {
   "cell_type": "markdown",
   "metadata": {},
   "source": [
    "### 解决方案\n",
    "在命令提示符后输入变量名称或表达式，R软件会直接在屏幕中输出其值。\n",
    "\n",
    "也可以使用print()函数能输出任何变量和表达式值。\n",
    "\n",
    "使用cat()函数能生成自定义格式的输出。"
   ]
  },
  {
   "cell_type": "markdown",
   "metadata": {},
   "source": [
    "### 讨论\n",
    "通过R软件显示一些内容方法——在命令提示符输入："
   ]
  },
  {
   "cell_type": "code",
   "execution_count": 1,
   "metadata": {
    "ExecuteTime": {
     "end_time": "2022-01-03T10:46:37.497385Z",
     "start_time": "2022-01-03T10:46:37.476Z"
    }
   },
   "outputs": [
    {
     "data": {
      "text/html": [
       "3.14159265358979"
      ],
      "text/latex": [
       "3.14159265358979"
      ],
      "text/markdown": [
       "3.14159265358979"
      ],
      "text/plain": [
       "[1] 3.141593"
      ]
     },
     "metadata": {},
     "output_type": "display_data"
    }
   ],
   "source": [
    "pi"
   ]
  },
  {
   "cell_type": "code",
   "execution_count": 2,
   "metadata": {
    "ExecuteTime": {
     "end_time": "2022-01-03T10:46:46.003520Z",
     "start_time": "2022-01-03T10:46:45.984Z"
    }
   },
   "outputs": [
    {
     "data": {
      "text/html": [
       "1.4142135623731"
      ],
      "text/latex": [
       "1.4142135623731"
      ],
      "text/markdown": [
       "1.4142135623731"
      ],
      "text/plain": [
       "[1] 1.414214"
      ]
     },
     "metadata": {},
     "output_type": "display_data"
    }
   ],
   "source": [
    "sqrt(2)"
   ]
  },
  {
   "cell_type": "markdown",
   "metadata": {},
   "source": [
    "当输入这些表达式时，R会计算表达式并且自动调用print函数。\n",
    "\n",
    "所以上面两个例子如同下面命令："
   ]
  },
  {
   "cell_type": "code",
   "execution_count": 3,
   "metadata": {
    "ExecuteTime": {
     "end_time": "2022-01-03T10:49:04.834120Z",
     "start_time": "2022-01-03T10:49:03.424Z"
    }
   },
   "outputs": [
    {
     "name": "stdout",
     "output_type": "stream",
     "text": [
      "[1] 3.141593\n"
     ]
    }
   ],
   "source": [
    "print(pi)"
   ]
  },
  {
   "cell_type": "code",
   "execution_count": 4,
   "metadata": {
    "ExecuteTime": {
     "end_time": "2022-01-03T10:49:19.597862Z",
     "start_time": "2022-01-03T10:49:19.579Z"
    }
   },
   "outputs": [
    {
     "name": "stdout",
     "output_type": "stream",
     "text": [
      "[1] 1.414214\n"
     ]
    }
   ],
   "source": [
    "print(sqrt(2))"
   ]
  },
  {
   "cell_type": "markdown",
   "metadata": {},
   "source": [
    "print()函数可以自动的以何种格式显示结果，\n",
    "\n",
    "包括矩阵和列表等结构化变量："
   ]
  },
  {
   "cell_type": "code",
   "execution_count": 5,
   "metadata": {
    "ExecuteTime": {
     "end_time": "2022-01-03T10:51:37.511424Z",
     "start_time": "2022-01-03T10:51:37.493Z"
    }
   },
   "outputs": [
    {
     "name": "stdout",
     "output_type": "stream",
     "text": [
      "     [,1] [,2]\n",
      "[1,]    1    3\n",
      "[2,]    2    4\n"
     ]
    }
   ],
   "source": [
    "print(matrix(c(1,2,3,4),2,2))"
   ]
  },
  {
   "cell_type": "code",
   "execution_count": 6,
   "metadata": {
    "ExecuteTime": {
     "end_time": "2022-01-03T10:52:05.269442Z",
     "start_time": "2022-01-03T10:52:05.252Z"
    }
   },
   "outputs": [
    {
     "name": "stdout",
     "output_type": "stream",
     "text": [
      "[[1]]\n",
      "[1] \"a\"\n",
      "\n",
      "[[2]]\n",
      "[1] \"b\"\n",
      "\n",
      "[[3]]\n",
      "[1] \"c\"\n",
      "\n"
     ]
    }
   ],
   "source": [
    "print(list(\"a\",\"b\",\"c\"))"
   ]
  },
  {
   "cell_type": "markdown",
   "metadata": {
    "ExecuteTime": {
     "end_time": "2022-01-03T10:52:35.547601Z",
     "start_time": "2022-01-03T10:52:35.528Z"
    }
   },
   "source": [
    "print() \n",
    "\n",
    "优点： 可以通过print()函数查看任何格式的数据。\n",
    "\n",
    "缺点： 一次只能显示一个对象。"
   ]
  },
  {
   "cell_type": "markdown",
   "metadata": {},
   "source": [
    "cat()函数是print()函数的替代方法，可以将多个对象并以连续的方式输出："
   ]
  },
  {
   "cell_type": "code",
   "execution_count": 9,
   "metadata": {
    "ExecuteTime": {
     "end_time": "2022-01-03T10:56:33.025068Z",
     "start_time": "2022-01-03T10:56:33.007Z"
    }
   },
   "outputs": [
    {
     "name": "stdout",
     "output_type": "stream",
     "text": [
      "The zero occurs at 6.283185 radians. \n"
     ]
    }
   ],
   "source": [
    "cat(\"The zero occurs at\",2*pi,\"radians.\",\"\\n\")"
   ]
  },
  {
   "cell_type": "code",
   "execution_count": 10,
   "metadata": {
    "ExecuteTime": {
     "end_time": "2022-01-03T10:57:24.329746Z",
     "start_time": "2022-01-03T10:57:24.311Z"
    }
   },
   "outputs": [
    {
     "name": "stdout",
     "output_type": "stream",
     "text": [
      "The zero occurs at 6.283185 radians."
     ]
    }
   ],
   "source": [
    "cat(\"The zero occurs at\",2*pi,\"radians.\")"
   ]
  },
  {
   "attachments": {
    "image.png": {
     "image/png": "[encoded data removed]"
    }
   },
   "cell_type": "markdown",
   "metadata": {},
   "source": [
    "![align=light](attachment:image.png)\n",
    "\n"
   ]
  },
  {
   "cell_type": "markdown",
   "metadata": {},
   "source": [
    "注意： cat()函数在默认在每个对象之间放置一个空格。所以必须使用\\n来结束本行语句。\n",
    "\n",
    "在jupyter与Rstudio中不受影响\n",
    "在R-base中是会出现问题\n",
    "\n",
    "建议代码规范！"
   ]
  },
  {
   "cell_type": "markdown",
   "metadata": {},
   "source": [
    "cat()函数可以显示简单向量："
   ]
  },
  {
   "cell_type": "code",
   "execution_count": 12,
   "metadata": {
    "ExecuteTime": {
     "end_time": "2022-01-03T11:26:08.304102Z",
     "start_time": "2022-01-03T11:26:08.278Z"
    }
   },
   "outputs": [
    {
     "name": "stdout",
     "output_type": "stream",
     "text": [
      "The first few Fibonacci numbers are 0 1 1 2 3 5 8 13 21 34 …\n"
     ]
    }
   ],
   "source": [
    "fib <- c(0,1,1,2,3,5,8,13,21,34)\n",
    "cat(\"The first few Fibonacci numbers are\",fib,\"…\\n\")"
   ]
  },
  {
   "cell_type": "markdown",
   "metadata": {},
   "source": [
    "cat() 无法显示复合数据结构，如矩阵和列表。"
   ]
  },
  {
   "cell_type": "code",
   "execution_count": 13,
   "metadata": {
    "ExecuteTime": {
     "end_time": "2022-01-03T11:28:03.537435Z",
     "start_time": "2022-01-03T11:28:03.518Z"
    }
   },
   "outputs": [
    {
     "ename": "ERROR",
     "evalue": "Error in cat(list(\"a\", \"b\", \"c\")): cat目前还不能处理1(种类为'list')参数\n",
     "output_type": "error",
     "traceback": [
      "Error in cat(list(\"a\", \"b\", \"c\")): cat目前还不能处理1(种类为'list')参数\nTraceback:\n",
      "1. cat(list(\"a\", \"b\", \"c\"))"
     ]
    }
   ],
   "source": [
    "cat(list(\"a\",\"b\",\"c\"))"
   ]
  },
  {
   "cell_type": "markdown",
   "metadata": {
    "ExecuteTime": {
     "end_time": "2022-01-03T11:29:19.358170Z",
     "start_time": "2022-01-03T11:29:19.337Z"
    }
   },
   "source": [
    "### 另请参阅\n",
    "有关控制输出格式，参考4.2节"
   ]
  },
  {
   "cell_type": "markdown",
   "metadata": {
    "ExecuteTime": {
     "end_time": "2022-01-03T11:30:55.284096Z",
     "start_time": "2022-01-03T11:30:55.269Z"
    }
   },
   "source": [
    "## 设定变量"
   ]
  },
  {
   "cell_type": "markdown",
   "metadata": {
    "ExecuteTime": {
     "end_time": "2022-01-03T11:31:09.190742Z",
     "start_time": "2022-01-03T11:31:09.174Z"
    }
   },
   "source": [
    "### 问题\n",
    "将某个值给一个变量。"
   ]
  },
  {
   "cell_type": "markdown",
   "metadata": {},
   "source": [
    "### 解决方案\n",
    "使用赋值运算符(<-)进行赋值。在赋值前无须对变量进行声明。\n",
    "\n",
    "不建议用(=)因为在有些函数的()中，使用“=”赋值，会被视为在用“=”定参，从而报错。\n",
    "\n",
    "在函数调用中，func(x=1)与func(x<-1)是有区别的，前者调用完后变量x不会被保留，而后者会在工作区里保留变量x=1。\n",
    "\n",
    "length(x=seq(1,10))计算完成后x不会被保留，而length(x<-seq(1,10))计算完后你会在工作区里发现x这个变量。"
   ]
  },
  {
   "cell_type": "markdown",
   "metadata": {},
   "source": [
    "### 讨论\n",
    "R软件中，不必对变量进行声明或者显式地创建变量，\n",
    "\n",
    "只需要经值赋予一个名称"
   ]
  },
  {
   "cell_type": "code",
   "execution_count": 17,
   "metadata": {
    "ExecuteTime": {
     "end_time": "2022-01-03T11:50:55.231998Z",
     "start_time": "2022-01-03T11:50:54.143Z"
    }
   },
   "outputs": [
    {
     "name": "stdout",
     "output_type": "stream",
     "text": [
      "[1] 3\n"
     ]
    }
   ],
   "source": [
    "x <- 3\n",
    "print(x)"
   ]
  },
  {
   "cell_type": "code",
   "execution_count": null,
   "metadata": {},
   "outputs": [],
   "source": []
  }
 ],
 "metadata": {
  "hide_input": false,
  "kernelspec": {
   "display_name": "R",
   "language": "R",
   "name": "ir"
  },
  "language_info": {
   "codemirror_mode": "r",
   "file_extension": ".r",
   "mimetype": "text/x-r-source",
   "name": "R",
   "pygments_lexer": "r",
   "version": "4.1.1"
  },
  "toc": {
   "base_numbering": "2",
   "nav_menu": {},
   "number_sections": true,
   "sideBar": true,
   "skip_h1_title": false,
   "title_cell": "Table of Contents",
   "title_sidebar": "Contents",
   "toc_cell": false,
   "toc_position": {},
   "toc_section_display": true,
   "toc_window_display": true
  },
  "varInspector": {
   "cols": {
    "lenName": 16,
    "lenType": 16,
    "lenVar": 40
   },
   "kernels_config": {
    "python": {
     "delete_cmd_postfix": "",
     "delete_cmd_prefix": "del ",
     "library": "var_list.py",
     "varRefreshCmd": "print(var_dic_list())"
    },
    "r": {
     "delete_cmd_postfix": ") ",
     "delete_cmd_prefix": "rm(",
     "library": "var_list.r",
     "varRefreshCmd": "cat(var_dic_list()) "
    }
   },
   "types_to_exclude": [
    "module",
    "function",
    "builtin_function_or_method",
    "instance",
    "_Feature"
   ],
   "window_display": false
  }
 },
 "nbformat": 4,
 "nbformat_minor": 2
}
